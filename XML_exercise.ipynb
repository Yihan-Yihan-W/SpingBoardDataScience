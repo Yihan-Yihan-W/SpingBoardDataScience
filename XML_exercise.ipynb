{
 "cells": [
  {
   "cell_type": "markdown",
   "metadata": {},
   "source": [
    " import libaries, load documents and get roots"
   ]
  },
  {
   "cell_type": "code",
   "execution_count": 1,
   "metadata": {
    "collapsed": true
   },
   "outputs": [],
   "source": [
    "from xml.etree import ElementTree as ET\n",
    "import pandas as pd\n",
    "import numpy as np"
   ]
  },
  {
   "cell_type": "code",
   "execution_count": 2,
   "metadata": {
    "collapsed": true
   },
   "outputs": [],
   "source": [
    "#get document, and the root of the string documents\n",
    "document = ET.parse( './data/mondial_database.xml' )\n",
    "root = document.getroot()"
   ]
  },
  {
   "cell_type": "markdown",
   "metadata": {},
   "source": [
    "# Question1: 10 countries with the lowest infant mortality rates"
   ]
  },
  {
   "cell_type": "code",
   "execution_count": 3,
   "metadata": {},
   "outputs": [],
   "source": [
    "# parse name of the country, infant_mortality rate,\n",
    "# then update the mortality dictionary\n",
    "\n",
    "mort = {}\n",
    "for child in root.iter('country'):\n",
    "    name = child.find('name').text\n",
    "    for mortsub in child.iter('infant_mortality'):\n",
    "        mortality = float(mortsub.text)\n",
    "        mort.update({name:mortality})"
   ]
  },
  {
   "cell_type": "code",
   "execution_count": 4,
   "metadata": {},
   "outputs": [
    {
     "data": {
      "text/html": [
       "<div>\n",
       "<style>\n",
       "    .dataframe thead tr:only-child th {\n",
       "        text-align: right;\n",
       "    }\n",
       "\n",
       "    .dataframe thead th {\n",
       "        text-align: left;\n",
       "    }\n",
       "\n",
       "    .dataframe tbody tr th {\n",
       "        vertical-align: top;\n",
       "    }\n",
       "</style>\n",
       "<table border=\"1\" class=\"dataframe\">\n",
       "  <thead>\n",
       "    <tr style=\"text-align: right;\">\n",
       "      <th></th>\n",
       "      <th>mortality</th>\n",
       "    </tr>\n",
       "  </thead>\n",
       "  <tbody>\n",
       "    <tr>\n",
       "      <th>Monaco</th>\n",
       "      <td>1.81</td>\n",
       "    </tr>\n",
       "    <tr>\n",
       "      <th>Japan</th>\n",
       "      <td>2.13</td>\n",
       "    </tr>\n",
       "    <tr>\n",
       "      <th>Bermuda</th>\n",
       "      <td>2.48</td>\n",
       "    </tr>\n",
       "    <tr>\n",
       "      <th>Norway</th>\n",
       "      <td>2.48</td>\n",
       "    </tr>\n",
       "    <tr>\n",
       "      <th>Singapore</th>\n",
       "      <td>2.53</td>\n",
       "    </tr>\n",
       "    <tr>\n",
       "      <th>Sweden</th>\n",
       "      <td>2.60</td>\n",
       "    </tr>\n",
       "    <tr>\n",
       "      <th>Czech Republic</th>\n",
       "      <td>2.63</td>\n",
       "    </tr>\n",
       "    <tr>\n",
       "      <th>Hong Kong</th>\n",
       "      <td>2.73</td>\n",
       "    </tr>\n",
       "    <tr>\n",
       "      <th>Macao</th>\n",
       "      <td>3.13</td>\n",
       "    </tr>\n",
       "    <tr>\n",
       "      <th>Iceland</th>\n",
       "      <td>3.15</td>\n",
       "    </tr>\n",
       "  </tbody>\n",
       "</table>\n",
       "</div>"
      ],
      "text/plain": [
       "                mortality\n",
       "Monaco               1.81\n",
       "Japan                2.13\n",
       "Bermuda              2.48\n",
       "Norway               2.48\n",
       "Singapore            2.53\n",
       "Sweden               2.60\n",
       "Czech Republic       2.63\n",
       "Hong Kong            2.73\n",
       "Macao                3.13\n",
       "Iceland              3.15"
      ]
     },
     "execution_count": 4,
     "metadata": {},
     "output_type": "execute_result"
    }
   ],
   "source": [
    "# read dictinary mort as data frame\n",
    "# sort df by mortality rate, and show lowest 10\n",
    "mortality_df = pd.DataFrame.from_dict(mort, orient = \"index\")\n",
    "mortality_df.columns = [\"mortality\"]\n",
    "mortality_df.sort_values(\"mortality\").head(10)"
   ]
  },
  {
   "cell_type": "markdown",
   "metadata": {},
   "source": [
    "# Question2 : 10 cities with the largest population"
   ]
  },
  {
   "cell_type": "code",
   "execution_count": 5,
   "metadata": {},
   "outputs": [],
   "source": [
    "#parse, city name population\n",
    "pop_dict = {}\n",
    "for child in root.iter('city'):\n",
    "    year0 = 2000\n",
    "    for pop in child.getiterator('population'):\n",
    "        year = int(pop.get('year'))\n",
    "        city = child.findtext('name')\n",
    "        if year >= year0:\n",
    "            year0 = year\n",
    "            population = int(pop.text)\n",
    "            pop_dict.update({city: population})"
   ]
  },
  {
   "cell_type": "code",
   "execution_count": 6,
   "metadata": {},
   "outputs": [
    {
     "data": {
      "text/html": [
       "<div>\n",
       "<style>\n",
       "    .dataframe thead tr:only-child th {\n",
       "        text-align: right;\n",
       "    }\n",
       "\n",
       "    .dataframe thead th {\n",
       "        text-align: left;\n",
       "    }\n",
       "\n",
       "    .dataframe tbody tr th {\n",
       "        vertical-align: top;\n",
       "    }\n",
       "</style>\n",
       "<table border=\"1\" class=\"dataframe\">\n",
       "  <thead>\n",
       "    <tr style=\"text-align: right;\">\n",
       "      <th></th>\n",
       "      <th>population</th>\n",
       "    </tr>\n",
       "  </thead>\n",
       "  <tbody>\n",
       "    <tr>\n",
       "      <th>Shanghai</th>\n",
       "      <td>22315474</td>\n",
       "    </tr>\n",
       "    <tr>\n",
       "      <th>Istanbul</th>\n",
       "      <td>13710512</td>\n",
       "    </tr>\n",
       "    <tr>\n",
       "      <th>Mumbai</th>\n",
       "      <td>12442373</td>\n",
       "    </tr>\n",
       "    <tr>\n",
       "      <th>Moskva</th>\n",
       "      <td>11979529</td>\n",
       "    </tr>\n",
       "    <tr>\n",
       "      <th>Beijing</th>\n",
       "      <td>11716620</td>\n",
       "    </tr>\n",
       "    <tr>\n",
       "      <th>São Paulo</th>\n",
       "      <td>11152344</td>\n",
       "    </tr>\n",
       "    <tr>\n",
       "      <th>Tianjin</th>\n",
       "      <td>11090314</td>\n",
       "    </tr>\n",
       "    <tr>\n",
       "      <th>Guangzhou</th>\n",
       "      <td>11071424</td>\n",
       "    </tr>\n",
       "    <tr>\n",
       "      <th>Delhi</th>\n",
       "      <td>11034555</td>\n",
       "    </tr>\n",
       "    <tr>\n",
       "      <th>Shenzhen</th>\n",
       "      <td>10358381</td>\n",
       "    </tr>\n",
       "  </tbody>\n",
       "</table>\n",
       "</div>"
      ],
      "text/plain": [
       "           population\n",
       "Shanghai     22315474\n",
       "Istanbul     13710512\n",
       "Mumbai       12442373\n",
       "Moskva       11979529\n",
       "Beijing      11716620\n",
       "São Paulo    11152344\n",
       "Tianjin      11090314\n",
       "Guangzhou    11071424\n",
       "Delhi        11034555\n",
       "Shenzhen     10358381"
      ]
     },
     "execution_count": 6,
     "metadata": {},
     "output_type": "execute_result"
    }
   ],
   "source": [
    "# read dictionary as data frame\n",
    "# sort by population, descending order\n",
    "population_df = pd.DataFrame.from_dict(pop_dict, orient = \"index\")\n",
    "population_df.columns = [\"population\"]\n",
    "population_df.sort_values(\"population\",ascending= False).head(10)"
   ]
  },
  {
   "cell_type": "markdown",
   "metadata": {},
   "source": [
    "# Question 3: 10 ethnic groups with the largest overall populations (sum of best/latest estimates over all countries)\n"
   ]
  },
  {
   "cell_type": "code",
   "execution_count": 7,
   "metadata": {
    "collapsed": true
   },
   "outputs": [],
   "source": [
    "ethn_name = list()\n",
    "ethn_population = list()\n",
    "\n",
    "# extract lastest population\n",
    "# get the population of each ethnicity in every country\n",
    "# write the ethnicity group name and population into seperate list\n",
    "\n",
    "for child in root.iter('country'):\n",
    "    country = child.findtext('name')\n",
    "    year0 = 1950\n",
    "    for population in child.findall('population'):\n",
    "        year = int(population.get('year'))\n",
    "        if year > year0:\n",
    "            year0 = year\n",
    "            pop = int (population.text)\n",
    "    for ethinicty in root.iter('ethnicgroup'):\n",
    "        percent = float (ethinicty.get('percentage'))\n",
    "        ethname = ethinicty.text\n",
    "        ethpop = percent * pop / 100 \n",
    "        ethn_name.append(ethname)\n",
    "        ethn_population.append(ethpop)"
   ]
  },
  {
   "cell_type": "code",
   "execution_count": 8,
   "metadata": {},
   "outputs": [
    {
     "data": {
      "text/html": [
       "<div>\n",
       "<style>\n",
       "    .dataframe thead tr:only-child th {\n",
       "        text-align: right;\n",
       "    }\n",
       "\n",
       "    .dataframe thead th {\n",
       "        text-align: left;\n",
       "    }\n",
       "\n",
       "    .dataframe tbody tr th {\n",
       "        vertical-align: top;\n",
       "    }\n",
       "</style>\n",
       "<table border=\"1\" class=\"dataframe\">\n",
       "  <thead>\n",
       "    <tr style=\"text-align: right;\">\n",
       "      <th></th>\n",
       "      <th>population</th>\n",
       "    </tr>\n",
       "    <tr>\n",
       "      <th>ethnicity</th>\n",
       "      <th></th>\n",
       "    </tr>\n",
       "  </thead>\n",
       "  <tbody>\n",
       "    <tr>\n",
       "      <th>African</th>\n",
       "      <td>1.302733e+11</td>\n",
       "    </tr>\n",
       "    <tr>\n",
       "      <th>European</th>\n",
       "      <td>6.768454e+10</td>\n",
       "    </tr>\n",
       "    <tr>\n",
       "      <th>Mestizo</th>\n",
       "      <td>6.070428e+10</td>\n",
       "    </tr>\n",
       "    <tr>\n",
       "      <th>Polynesian</th>\n",
       "      <td>4.646768e+10</td>\n",
       "    </tr>\n",
       "    <tr>\n",
       "      <th>Arab</th>\n",
       "      <td>4.450160e+10</td>\n",
       "    </tr>\n",
       "    <tr>\n",
       "      <th>Chinese</th>\n",
       "      <td>3.297009e+10</td>\n",
       "    </tr>\n",
       "    <tr>\n",
       "      <th>Arab-Berber</th>\n",
       "      <td>2.064378e+10</td>\n",
       "    </tr>\n",
       "    <tr>\n",
       "      <th>Black</th>\n",
       "      <td>1.781319e+10</td>\n",
       "    </tr>\n",
       "    <tr>\n",
       "      <th>Malay</th>\n",
       "      <td>1.689290e+10</td>\n",
       "    </tr>\n",
       "    <tr>\n",
       "      <th>Melanesian</th>\n",
       "      <td>1.611205e+10</td>\n",
       "    </tr>\n",
       "  </tbody>\n",
       "</table>\n",
       "</div>"
      ],
      "text/plain": [
       "               population\n",
       "ethnicity                \n",
       "African      1.302733e+11\n",
       "European     6.768454e+10\n",
       "Mestizo      6.070428e+10\n",
       "Polynesian   4.646768e+10\n",
       "Arab         4.450160e+10\n",
       "Chinese      3.297009e+10\n",
       "Arab-Berber  2.064378e+10\n",
       "Black        1.781319e+10\n",
       "Malay        1.689290e+10\n",
       "Melanesian   1.611205e+10"
      ]
     },
     "execution_count": 8,
     "metadata": {},
     "output_type": "execute_result"
    }
   ],
   "source": [
    "#dataframe \n",
    "ethn_df = pd.DataFrame({'ethnicity':ethn_name ,'population':ethn_population})\n",
    "\n",
    "#groupby ethnicity group and sum\n",
    "\n",
    "ethn_df.groupby('ethnicity').sum().sort_values('population', ascending = False).head(10)"
   ]
  },
  {
   "cell_type": "markdown",
   "metadata": {},
   "source": [
    "# Question4: name and country of a) longest river, b) largest lake and c) airport at highest elevation"
   ]
  },
  {
   "cell_type": "code",
   "execution_count": 9,
   "metadata": {},
   "outputs": [
    {
     "name": "stdout",
     "output_type": "stream",
     "text": [
      "[<Element 'name' at 0x119259e08>, <Element 'to' at 0x119259e58>, <Element 'area' at 0x119259ea8>, <Element 'length' at 0x119259ef8>, <Element 'source' at 0x119259f48>, <Element 'estuary' at 0x119260098>]\n"
     ]
    }
   ],
   "source": [
    "#find elements of \"river\"\n",
    "print(root.find(\"river\")[:])"
   ]
  },
  {
   "cell_type": "code",
   "execution_count": 10,
   "metadata": {},
   "outputs": [
    {
     "data": {
      "text/html": [
       "<div>\n",
       "<style>\n",
       "    .dataframe thead tr:only-child th {\n",
       "        text-align: right;\n",
       "    }\n",
       "\n",
       "    .dataframe thead th {\n",
       "        text-align: left;\n",
       "    }\n",
       "\n",
       "    .dataframe tbody tr th {\n",
       "        vertical-align: top;\n",
       "    }\n",
       "</style>\n",
       "<table border=\"1\" class=\"dataframe\">\n",
       "  <thead>\n",
       "    <tr style=\"text-align: right;\">\n",
       "      <th></th>\n",
       "      <th>0</th>\n",
       "    </tr>\n",
       "  </thead>\n",
       "  <tbody>\n",
       "    <tr>\n",
       "      <th>Amazonas</th>\n",
       "      <td>6448.0</td>\n",
       "    </tr>\n",
       "    <tr>\n",
       "      <th>Jangtse</th>\n",
       "      <td>6380.0</td>\n",
       "    </tr>\n",
       "    <tr>\n",
       "      <th>Hwangho</th>\n",
       "      <td>4845.0</td>\n",
       "    </tr>\n",
       "    <tr>\n",
       "      <th>Lena</th>\n",
       "      <td>4400.0</td>\n",
       "    </tr>\n",
       "    <tr>\n",
       "      <th>Zaire</th>\n",
       "      <td>4374.0</td>\n",
       "    </tr>\n",
       "    <tr>\n",
       "      <th>Mekong</th>\n",
       "      <td>4350.0</td>\n",
       "    </tr>\n",
       "    <tr>\n",
       "      <th>Irtysch</th>\n",
       "      <td>4248.0</td>\n",
       "    </tr>\n",
       "    <tr>\n",
       "      <th>Niger</th>\n",
       "      <td>4184.0</td>\n",
       "    </tr>\n",
       "    <tr>\n",
       "      <th>Missouri</th>\n",
       "      <td>4130.0</td>\n",
       "    </tr>\n",
       "    <tr>\n",
       "      <th>Jenissej</th>\n",
       "      <td>4092.0</td>\n",
       "    </tr>\n",
       "  </tbody>\n",
       "</table>\n",
       "</div>"
      ],
      "text/plain": [
       "               0\n",
       "Amazonas  6448.0\n",
       "Jangtse   6380.0\n",
       "Hwangho   4845.0\n",
       "Lena      4400.0\n",
       "Zaire     4374.0\n",
       "Mekong    4350.0\n",
       "Irtysch   4248.0\n",
       "Niger     4184.0\n",
       "Missouri  4130.0\n",
       "Jenissej  4092.0"
      ]
     },
     "execution_count": 10,
     "metadata": {},
     "output_type": "execute_result"
    }
   ],
   "source": [
    "# 10 longest rivers\n",
    "river_dict = {}\n",
    "for child in root.iter('river'):\n",
    "    name = child.findtext('name')\n",
    "    for sub in child.findall('length'):\n",
    "        length = float(sub.text)\n",
    "        river_dict.update({name:length})\n",
    "river_df = pd.DataFrame.from_dict(river_dict, orient = \"index\")\n",
    "river_df.sort_values(0,ascending = False).head(10)"
   ]
  },
  {
   "cell_type": "markdown",
   "metadata": {},
   "source": [
    "a) Find name and length of longest river"
   ]
  },
  {
   "cell_type": "code",
   "execution_count": 11,
   "metadata": {},
   "outputs": [
    {
     "name": "stdout",
     "output_type": "stream",
     "text": [
      "Amazonas 6448.0 CO BR PE\n"
     ]
    }
   ],
   "source": [
    "max_length = 0\n",
    "for child in root.iter('river'):\n",
    "    for sub in child.findall('length'):\n",
    "        length = float(sub.text)\n",
    "        if length > max_length:\n",
    "            max_length = length\n",
    "            name = child.findtext('name')\n",
    "            country = child.get(\"country\")\n",
    "print(name, max_length, country)"
   ]
  },
  {
   "cell_type": "code",
   "execution_count": 12,
   "metadata": {
    "scrolled": true
   },
   "outputs": [
    {
     "name": "stdout",
     "output_type": "stream",
     "text": [
      "Colombia Leticia river-Amazonas\n",
      "Brazil Macapá river-Amazonas\n",
      "Brazil Manaus river-Amazonas\n",
      "Peru Cusco river-Amazonas\n",
      "Peru Iquitos river-Amazonas\n",
      "Peru Pucallpa river-Amazonas\n"
     ]
    }
   ],
   "source": [
    "# check the answer from element \"city\"\n",
    "for child in root.iter('country'):\n",
    "    country = child.findtext('name')\n",
    "    for subchild in child.iter('city'):\n",
    "        cityname = subchild.findtext('name')\n",
    "        for city in subchild.findall('located_at'):\n",
    "            river = city.get('river')\n",
    "            if river == \"river-Amazonas\":\n",
    "                print (country, cityname, river)\n",
    "        "
   ]
  },
  {
   "cell_type": "markdown",
   "metadata": {},
   "source": [
    "2) Name & area of Largest Lake"
   ]
  },
  {
   "cell_type": "code",
   "execution_count": 13,
   "metadata": {},
   "outputs": [
    {
     "name": "stdout",
     "output_type": "stream",
     "text": [
      "[<Element 'name' at 0x119414368>, <Element 'located' at 0x1194143b8>, <Element 'to' at 0x119414408>, <Element 'area' at 0x119414458>, <Element 'latitude' at 0x1194144a8>, <Element 'longitude' at 0x1194144f8>, <Element 'elevation' at 0x119414548>, <Element 'depth' at 0x119414598>]\n"
     ]
    }
   ],
   "source": [
    "print(root.find(\"lake\")[:])"
   ]
  },
  {
   "cell_type": "code",
   "execution_count": 14,
   "metadata": {},
   "outputs": [
    {
     "name": "stdout",
     "output_type": "stream",
     "text": [
      "Caspian Sea 386400.0 R AZ KAZ IR TM\n"
     ]
    }
   ],
   "source": [
    "lake_dict={}\n",
    "max_area = 0 \n",
    "for child in root.iter('lake'):\n",
    "    for sub in child.findall('area'):\n",
    "        area = float(sub.text)\n",
    "        if area> max_area:\n",
    "            max_area = area\n",
    "            name = child.findtext('name')\n",
    "            country = child.get(\"country\")\n",
    "print(name, max_area,country)"
   ]
  },
  {
   "cell_type": "markdown",
   "metadata": {},
   "source": [
    "R-Russia, KAZ-Kazakhsta, AZ-Azerbaijan, IR-Iran, TM-Turkmenistan,"
   ]
  },
  {
   "cell_type": "markdown",
   "metadata": {},
   "source": [
    "c) airport at highest elevation\n",
    "        "
   ]
  },
  {
   "cell_type": "code",
   "execution_count": 15,
   "metadata": {},
   "outputs": [
    {
     "name": "stdout",
     "output_type": "stream",
     "text": [
      "[<Element 'name' at 0x11962f368>, <Element 'latitude' at 0x11962f3b8>, <Element 'longitude' at 0x11962f408>, <Element 'elevation' at 0x11962f458>, <Element 'gmtOffset' at 0x11962f4a8>]\n"
     ]
    }
   ],
   "source": [
    "print(root.find(\"airport\")[:])"
   ]
  },
  {
   "cell_type": "code",
   "execution_count": 33,
   "metadata": {},
   "outputs": [
    {
     "data": {
      "text/html": [
       "<div>\n",
       "<style>\n",
       "    .dataframe thead tr:only-child th {\n",
       "        text-align: right;\n",
       "    }\n",
       "\n",
       "    .dataframe thead th {\n",
       "        text-align: left;\n",
       "    }\n",
       "\n",
       "    .dataframe tbody tr th {\n",
       "        vertical-align: top;\n",
       "    }\n",
       "</style>\n",
       "<table border=\"1\" class=\"dataframe\">\n",
       "  <thead>\n",
       "    <tr style=\"text-align: right;\">\n",
       "      <th></th>\n",
       "      <th>airport</th>\n",
       "      <th>elevation</th>\n",
       "    </tr>\n",
       "  </thead>\n",
       "  <tbody>\n",
       "    <tr>\n",
       "      <th>536</th>\n",
       "      <td>Mashhad</td>\n",
       "      <td>995</td>\n",
       "    </tr>\n",
       "    <tr>\n",
       "      <th>1009</th>\n",
       "      <td>A Coruna</td>\n",
       "      <td>99</td>\n",
       "    </tr>\n",
       "    <tr>\n",
       "      <th>915</th>\n",
       "      <td>Yakutsk</td>\n",
       "      <td>99</td>\n",
       "    </tr>\n",
       "    <tr>\n",
       "      <th>387</th>\n",
       "      <td>Guipavas</td>\n",
       "      <td>99</td>\n",
       "    </tr>\n",
       "    <tr>\n",
       "      <th>361</th>\n",
       "      <td>Kuopio</td>\n",
       "      <td>98</td>\n",
       "    </tr>\n",
       "  </tbody>\n",
       "</table>\n",
       "</div>"
      ],
      "text/plain": [
       "       airport elevation\n",
       "536    Mashhad       995\n",
       "1009  A Coruna        99\n",
       "915    Yakutsk        99\n",
       "387   Guipavas        99\n",
       "361     Kuopio        98"
      ]
     },
     "execution_count": 33,
     "metadata": {},
     "output_type": "execute_result"
    }
   ],
   "source": [
    "airport_ls = []\n",
    "elevation_ls = []\n",
    "for child in root.iter('airport'):\n",
    "    #for subchild in child.find(\"elevation\"):\n",
    "        #elevation = float(subchild.text)\n",
    "        #if elevation > highest:\n",
    "            #highest = elevation\n",
    "    airport = child.findtext('name')\n",
    "    elevation = child.findtext('elevation')\n",
    "    airport_ls.append(airport)\n",
    "    elevation_ls.append(elevation)\n",
    "\n",
    "aiport_elevation = pd.DataFrame({'airport':airport_ls ,'elevation':elevation_ls})\n",
    "aiport_elevation.sort_values(\"elevation\", ascending = False).head(5)      "
   ]
  },
  {
   "cell_type": "code",
   "execution_count": 35,
   "metadata": {},
   "outputs": [
    {
     "ename": "ValueError",
     "evalue": "could not convert string to float: ",
     "output_type": "error",
     "traceback": [
      "\u001b[0;31m---------------------------------------------------------------------------\u001b[0m",
      "\u001b[0;31mValueError\u001b[0m                                Traceback (most recent call last)",
      "\u001b[0;32m<ipython-input-35-471bb7517993>\u001b[0m in \u001b[0;36m<module>\u001b[0;34m()\u001b[0m\n\u001b[0;32m----> 1\u001b[0;31m \u001b[0melevation_ls\u001b[0m \u001b[0;34m=\u001b[0m \u001b[0mlist\u001b[0m\u001b[0;34m(\u001b[0m\u001b[0mmap\u001b[0m\u001b[0;34m(\u001b[0m\u001b[0mfloat\u001b[0m\u001b[0;34m,\u001b[0m \u001b[0melevation_ls\u001b[0m\u001b[0;34m)\u001b[0m\u001b[0;34m)\u001b[0m\u001b[0;34m\u001b[0m\u001b[0m\n\u001b[0m",
      "\u001b[0;31mValueError\u001b[0m: could not convert string to float: "
     ]
    }
   ],
   "source": [
    "elevation_ls = list(map(float, elevation_ls))"
   ]
  },
  {
   "cell_type": "code",
   "execution_count": null,
   "metadata": {
    "collapsed": true
   },
   "outputs": [],
   "source": []
  }
 ],
 "metadata": {
  "kernelspec": {
   "display_name": "Python 3",
   "language": "python",
   "name": "python3"
  },
  "language_info": {
   "codemirror_mode": {
    "name": "ipython",
    "version": 3
   },
   "file_extension": ".py",
   "mimetype": "text/x-python",
   "name": "python",
   "nbconvert_exporter": "python",
   "pygments_lexer": "ipython3",
   "version": "3.6.1"
  }
 },
 "nbformat": 4,
 "nbformat_minor": 2
}
